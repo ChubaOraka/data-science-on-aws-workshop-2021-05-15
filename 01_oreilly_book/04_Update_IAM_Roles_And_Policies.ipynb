{
 "cells": [
  {
   "cell_type": "markdown",
   "metadata": {},
   "source": [
    "# Update IAM Roles and Policies"
   ]
  },
  {
   "cell_type": "code",
   "execution_count": 1,
   "metadata": {},
   "outputs": [],
   "source": [
    "import boto3\n",
    "import sagemaker\n",
    "import time\n",
    "from time import gmtime, strftime\n",
    "\n",
    "sagemaker_session = sagemaker.Session()\n",
    "role = sagemaker.get_execution_role()\n",
    "bucket = sagemaker_session.default_bucket()\n",
    "region = boto3.Session().region_name\n",
    "\n",
    "from botocore.config import Config\n",
    "\n",
    "config = Config(retries={\"max_attempts\": 10, \"mode\": \"adaptive\"})\n",
    "\n",
    "iam = boto3.client(\"iam\", config=config)"
   ]
  },
  {
   "cell_type": "markdown",
   "metadata": {},
   "source": [
    "## Get SageMaker Execution Role Name"
   ]
  },
  {
   "cell_type": "code",
   "execution_count": 2,
   "metadata": {},
   "outputs": [
    {
     "name": "stdout",
     "output_type": "stream",
     "text": [
      "Role name: mod-6a56f92ff726428b-SageMakerExecutionRole-131HJ8VVEU80K\n"
     ]
    }
   ],
   "source": [
    "role_name = role.split(\"/\")[-1]\n",
    "\n",
    "print(\"Role name: {}\".format(role_name))"
   ]
  },
  {
   "cell_type": "code",
   "execution_count": 3,
   "metadata": {},
   "outputs": [],
   "source": [
    "setup_iam_roles_passed = False"
   ]
  },
  {
   "cell_type": "markdown",
   "metadata": {},
   "source": [
    "# **Pre-Requisite:  SageMaker notebook instance ExecutionRole contains `IAMFullAccess` Policy.**"
   ]
  },
  {
   "cell_type": "code",
   "execution_count": 4,
   "metadata": {},
   "outputs": [
    {
     "name": "stdout",
     "output_type": "stream",
     "text": [
      "[OK] You are all set up to continue with this workshop!\n"
     ]
    }
   ],
   "source": [
    "admin = False\n",
    "post_policies = iam.list_attached_role_policies(RoleName=role_name)[\"AttachedPolicies\"]\n",
    "for post_policy in post_policies:\n",
    "    if post_policy[\"PolicyName\"] == \"AdministratorAccess\":\n",
    "        admin = True\n",
    "        break\n",
    "\n",
    "setup_iam_roles_passed = True\n",
    "print(\"[OK] You are all set up to continue with this workshop!\")"
   ]
  },
  {
   "cell_type": "code",
   "execution_count": 5,
   "metadata": {},
   "outputs": [
    {
     "name": "stdout",
     "output_type": "stream",
     "text": [
      "*************** [ERROR] You need to attach the following policies in order to continue with this workshop *****************\n",
      "\n",
      "Not Attached: IAMFullAccess\n"
     ]
    }
   ],
   "source": [
    "if not admin:\n",
    "    pre_policies = iam.list_attached_role_policies(RoleName=role_name)[\"AttachedPolicies\"]\n",
    "\n",
    "    required_policies = [\"IAMFullAccess\"]\n",
    "\n",
    "    for pre_policy in pre_policies:\n",
    "        for role_req in required_policies:\n",
    "            if pre_policy[\"PolicyName\"] == role_req:\n",
    "                print(\"Attached: {}\".format(pre_policy[\"PolicyName\"]))\n",
    "                try:\n",
    "                    required_policies.remove(pre_policy[\"PolicyName\"])\n",
    "                except:\n",
    "                    pass\n",
    "\n",
    "    if len(required_policies) > 0:\n",
    "        print(\n",
    "            \"*************** [ERROR] You need to attach the following policies in order to continue with this workshop *****************\\n\"\n",
    "        )\n",
    "        for required_policy in required_policies:\n",
    "            print(\"Not Attached: {}\".format(required_policy))\n",
    "    else:\n",
    "        print(\"[OK] You are all set to continue with this notebook!\")\n",
    "else:\n",
    "    print(\"[OK] You are all set to continue with this notebook!\")"
   ]
  },
  {
   "cell_type": "markdown",
   "metadata": {},
   "source": [
    "# **If you see an ERROR message ^^ above ^^, please attach the IAMFullAccess Policy to the SageMaker notebook instance ExecutionRole.**"
   ]
  },
  {
   "cell_type": "code",
   "execution_count": 6,
   "metadata": {},
   "outputs": [
    {
     "name": "stdout",
     "output_type": "stream",
     "text": [
      "*************** [ERROR] An error occurred (AccessDenied) when calling the AttachRolePolicy operation: User: arn:aws:sts::298039562326:assumed-role/mod-6a56f92ff726428b-SageMakerExecutionRole-131HJ8VVEU80K/SageMaker is not authorized to perform: iam:AttachRolePolicy on resource: role mod-6a56f92ff726428b-SageMakerExecutionRole-131HJ8VVEU80K *****************\n"
     ]
    }
   ],
   "source": [
    "from botocore.exceptions import ClientError\n",
    "\n",
    "try:\n",
    "    policy = \"AdministratorAccess\"\n",
    "    response = iam.attach_role_policy(PolicyArn=\"arn:aws:iam::aws:policy/{}\".format(policy), RoleName=role_name)\n",
    "    print(\"Policy {} has been succesfully attached to role: {}\".format(policy, role_name))\n",
    "except ClientError as e:\n",
    "    if e.response[\"Error\"][\"Code\"] == \"EntityAlreadyExists\":\n",
    "        print(\"[OK] Policy is already attached.\")\n",
    "    elif e.response[\"Error\"][\"Code\"] == \"LimitExceeded\":\n",
    "        print(\"[OK]\")\n",
    "    else:\n",
    "        print(\"*************** [ERROR] {} *****************\".format(e))\n",
    "\n",
    "time.sleep(5)"
   ]
  },
  {
   "cell_type": "code",
   "execution_count": 7,
   "metadata": {},
   "outputs": [
    {
     "name": "stdout",
     "output_type": "stream",
     "text": [
      "*************** [ERROR] An error occurred (AccessDenied) when calling the AttachRolePolicy operation: User: arn:aws:sts::298039562326:assumed-role/mod-6a56f92ff726428b-SageMakerExecutionRole-131HJ8VVEU80K/SageMaker is not authorized to perform: iam:AttachRolePolicy on resource: role mod-6a56f92ff726428b-SageMakerExecutionRole-131HJ8VVEU80K *****************\n"
     ]
    }
   ],
   "source": [
    "from botocore.exceptions import ClientError\n",
    "\n",
    "try:\n",
    "    policy = \"AmazonSageMakerFullAccess\"\n",
    "    response = iam.attach_role_policy(PolicyArn=\"arn:aws:iam::aws:policy/{}\".format(policy), RoleName=role_name)\n",
    "    print(\"Policy {} has been succesfully attached to role: {}\".format(policy, role_name))\n",
    "except ClientError as e:\n",
    "    if e.response[\"Error\"][\"Code\"] == \"EntityAlreadyExists\":\n",
    "        print(\"[OK] Policy is already attached.\")\n",
    "    elif e.response[\"Error\"][\"Code\"] == \"LimitExceeded\":\n",
    "        print(\"[OK]\")\n",
    "    else:\n",
    "        print(\"*************** [ERROR] {} *****************\".format(e))\n",
    "\n",
    "time.sleep(5)"
   ]
  },
  {
   "cell_type": "code",
   "execution_count": 8,
   "metadata": {},
   "outputs": [
    {
     "name": "stdout",
     "output_type": "stream",
     "text": [
      "*************** [ERROR] An error occurred (AccessDenied) when calling the AttachRolePolicy operation: User: arn:aws:sts::298039562326:assumed-role/mod-6a56f92ff726428b-SageMakerExecutionRole-131HJ8VVEU80K/SageMaker is not authorized to perform: iam:AttachRolePolicy on resource: role mod-6a56f92ff726428b-SageMakerExecutionRole-131HJ8VVEU80K *****************\n"
     ]
    }
   ],
   "source": [
    "from botocore.exceptions import ClientError\n",
    "\n",
    "try:\n",
    "    policy = \"IAMFullAccess\"\n",
    "    response = iam.attach_role_policy(PolicyArn=\"arn:aws:iam::aws:policy/{}\".format(policy), RoleName=role_name)\n",
    "    print(\"Policy {} has been succesfully attached to role: {}\".format(policy, role_name))\n",
    "except ClientError as e:\n",
    "    if e.response[\"Error\"][\"Code\"] == \"EntityAlreadyExists\":\n",
    "        print(\"[OK] Policy is already attached.\")\n",
    "    elif e.response[\"Error\"][\"Code\"] == \"LimitExceeded\":\n",
    "        print(\"[OK]\")\n",
    "    else:\n",
    "        print(\"*************** [ERROR] {} *****************\".format(e))\n",
    "\n",
    "time.sleep(5)"
   ]
  },
  {
   "cell_type": "code",
   "execution_count": 9,
   "metadata": {},
   "outputs": [
    {
     "name": "stdout",
     "output_type": "stream",
     "text": [
      "*************** [ERROR] An error occurred (AccessDenied) when calling the AttachRolePolicy operation: User: arn:aws:sts::298039562326:assumed-role/mod-6a56f92ff726428b-SageMakerExecutionRole-131HJ8VVEU80K/SageMaker is not authorized to perform: iam:AttachRolePolicy on resource: role mod-6a56f92ff726428b-SageMakerExecutionRole-131HJ8VVEU80K *****************\n"
     ]
    }
   ],
   "source": [
    "from botocore.exceptions import ClientError\n",
    "\n",
    "try:\n",
    "    policy = \"AmazonS3FullAccess\"\n",
    "    response = iam.attach_role_policy(PolicyArn=\"arn:aws:iam::aws:policy/{}\".format(policy), RoleName=role_name)\n",
    "    print(\"Policy {} has been succesfully attached to role: {}\".format(policy, role_name))\n",
    "except ClientError as e:\n",
    "    if e.response[\"Error\"][\"Code\"] == \"EntityAlreadyExists\":\n",
    "        print(\"[OK] Policy is already attached.\")\n",
    "    elif e.response[\"Error\"][\"Code\"] == \"LimitExceeded\":\n",
    "        print(\"[OK]\")\n",
    "    else:\n",
    "        print(\"*************** [ERROR] {} *****************\".format(e))\n",
    "\n",
    "time.sleep(5)"
   ]
  },
  {
   "cell_type": "code",
   "execution_count": 10,
   "metadata": {},
   "outputs": [
    {
     "name": "stdout",
     "output_type": "stream",
     "text": [
      "*************** [ERROR] An error occurred (AccessDenied) when calling the AttachRolePolicy operation: User: arn:aws:sts::298039562326:assumed-role/mod-6a56f92ff726428b-SageMakerExecutionRole-131HJ8VVEU80K/SageMaker is not authorized to perform: iam:AttachRolePolicy on resource: role mod-6a56f92ff726428b-SageMakerExecutionRole-131HJ8VVEU80K *****************\n"
     ]
    }
   ],
   "source": [
    "from botocore.exceptions import ClientError\n",
    "\n",
    "try:\n",
    "    policy = \"ComprehendFullAccess\"\n",
    "    response = iam.attach_role_policy(PolicyArn=\"arn:aws:iam::aws:policy/{}\".format(policy), RoleName=role_name)\n",
    "    print(\"Policy {} has been succesfully attached to role: {}\".format(policy, role_name))\n",
    "except ClientError as e:\n",
    "    if e.response[\"Error\"][\"Code\"] == \"EntityAlreadyExists\":\n",
    "        print(\"[OK] Policy is already attached.\")\n",
    "    elif e.response[\"Error\"][\"Code\"] == \"LimitExceeded\":\n",
    "        print(\"[OK]\")\n",
    "    else:\n",
    "        print(\"*************** [ERROR] {} *****************\".format(e))\n",
    "\n",
    "time.sleep(5)"
   ]
  },
  {
   "cell_type": "code",
   "execution_count": 11,
   "metadata": {},
   "outputs": [
    {
     "name": "stdout",
     "output_type": "stream",
     "text": [
      "*************** [ERROR] An error occurred (AccessDenied) when calling the AttachRolePolicy operation: User: arn:aws:sts::298039562326:assumed-role/mod-6a56f92ff726428b-SageMakerExecutionRole-131HJ8VVEU80K/SageMaker is not authorized to perform: iam:AttachRolePolicy on resource: role mod-6a56f92ff726428b-SageMakerExecutionRole-131HJ8VVEU80K *****************\n"
     ]
    }
   ],
   "source": [
    "from botocore.exceptions import ClientError\n",
    "\n",
    "try:\n",
    "    policy = \"AmazonAthenaFullAccess\"\n",
    "    response = iam.attach_role_policy(PolicyArn=\"arn:aws:iam::aws:policy/{}\".format(policy), RoleName=role_name)\n",
    "    print(\"Policy {} has been succesfully attached to role: {}\".format(policy, role_name))\n",
    "except ClientError as e:\n",
    "    if e.response[\"Error\"][\"Code\"] == \"EntityAlreadyExists\":\n",
    "        print(\"[OK] Policy is already attached.\")\n",
    "    elif e.response[\"Error\"][\"Code\"] == \"LimitExceeded\":\n",
    "        print(\"[OK]\")\n",
    "    else:\n",
    "        print(\"*************** [ERROR] {} *****************\".format(e))\n",
    "\n",
    "time.sleep(5)"
   ]
  },
  {
   "cell_type": "code",
   "execution_count": 12,
   "metadata": {},
   "outputs": [
    {
     "name": "stdout",
     "output_type": "stream",
     "text": [
      "*************** [ERROR] An error occurred (AccessDenied) when calling the AttachRolePolicy operation: User: arn:aws:sts::298039562326:assumed-role/mod-6a56f92ff726428b-SageMakerExecutionRole-131HJ8VVEU80K/SageMaker is not authorized to perform: iam:AttachRolePolicy on resource: role mod-6a56f92ff726428b-SageMakerExecutionRole-131HJ8VVEU80K *****************\n"
     ]
    }
   ],
   "source": [
    "from botocore.exceptions import ClientError\n",
    "\n",
    "try:\n",
    "    policy = \"SecretsManagerReadWrite\"\n",
    "    response = iam.attach_role_policy(PolicyArn=\"arn:aws:iam::aws:policy/{}\".format(policy), RoleName=role_name)\n",
    "    print(\"Policy {} has been succesfully attached to role: {}\".format(policy, role_name))\n",
    "except ClientError as e:\n",
    "    if e.response[\"Error\"][\"Code\"] == \"EntityAlreadyExists\":\n",
    "        print(\"[OK] Policy is already attached.\")\n",
    "    elif e.response[\"Error\"][\"Code\"] == \"LimitExceeded\":\n",
    "        print(\"[OK]\")\n",
    "    else:\n",
    "        print(\"*************** [ERROR] {} *****************\".format(e))\n",
    "\n",
    "time.sleep(5)"
   ]
  },
  {
   "cell_type": "code",
   "execution_count": 13,
   "metadata": {},
   "outputs": [
    {
     "name": "stdout",
     "output_type": "stream",
     "text": [
      "*************** [ERROR] An error occurred (AccessDenied) when calling the AttachRolePolicy operation: User: arn:aws:sts::298039562326:assumed-role/mod-6a56f92ff726428b-SageMakerExecutionRole-131HJ8VVEU80K/SageMaker is not authorized to perform: iam:AttachRolePolicy on resource: role mod-6a56f92ff726428b-SageMakerExecutionRole-131HJ8VVEU80K *****************\n"
     ]
    }
   ],
   "source": [
    "from botocore.exceptions import ClientError\n",
    "\n",
    "try:\n",
    "    policy = \"AmazonRedshiftFullAccess\"\n",
    "    response = iam.attach_role_policy(PolicyArn=\"arn:aws:iam::aws:policy/{}\".format(policy), RoleName=role_name)\n",
    "    print(\"Policy {} has been succesfully attached to role: {}\".format(policy, role_name))\n",
    "except ClientError as e:\n",
    "    if e.response[\"Error\"][\"Code\"] == \"EntityAlreadyExists\":\n",
    "        print(\"[OK] Policy is already attached.\")\n",
    "    elif e.response[\"Error\"][\"Code\"] == \"LimitExceeded\":\n",
    "        print(\"[OK]\")\n",
    "    else:\n",
    "        print(\"*************** [ERROR] {} *****************\".format(e))\n",
    "\n",
    "time.sleep(5)"
   ]
  },
  {
   "cell_type": "code",
   "execution_count": 14,
   "metadata": {},
   "outputs": [
    {
     "name": "stdout",
     "output_type": "stream",
     "text": [
      "*************** [ERROR] An error occurred (AccessDenied) when calling the AttachRolePolicy operation: User: arn:aws:sts::298039562326:assumed-role/mod-6a56f92ff726428b-SageMakerExecutionRole-131HJ8VVEU80K/SageMaker is not authorized to perform: iam:AttachRolePolicy on resource: role mod-6a56f92ff726428b-SageMakerExecutionRole-131HJ8VVEU80K *****************\n"
     ]
    }
   ],
   "source": [
    "from botocore.exceptions import ClientError\n",
    "\n",
    "try:\n",
    "    policy = \"AmazonEC2ContainerRegistryFullAccess\"\n",
    "    response = iam.attach_role_policy(PolicyArn=\"arn:aws:iam::aws:policy/{}\".format(policy), RoleName=role_name)\n",
    "    print(\"Policy {} has been succesfully attached to role: {}\".format(policy, role_name))\n",
    "except ClientError as e:\n",
    "    if e.response[\"Error\"][\"Code\"] == \"EntityAlreadyExists\":\n",
    "        print(\"[OK] Policy is already attached.\")\n",
    "    elif e.response[\"Error\"][\"Code\"] == \"LimitExceeded\":\n",
    "        print(\"[OK]\")\n",
    "    else:\n",
    "        print(\"*************** [ERROR] {} *****************\".format(e))\n",
    "\n",
    "time.sleep(5)"
   ]
  },
  {
   "cell_type": "code",
   "execution_count": 15,
   "metadata": {},
   "outputs": [
    {
     "name": "stdout",
     "output_type": "stream",
     "text": [
      "*************** [ERROR] An error occurred (AccessDenied) when calling the AttachRolePolicy operation: User: arn:aws:sts::298039562326:assumed-role/mod-6a56f92ff726428b-SageMakerExecutionRole-131HJ8VVEU80K/SageMaker is not authorized to perform: iam:AttachRolePolicy on resource: role mod-6a56f92ff726428b-SageMakerExecutionRole-131HJ8VVEU80K *****************\n"
     ]
    }
   ],
   "source": [
    "from botocore.exceptions import ClientError\n",
    "\n",
    "try:\n",
    "    policy = \"AWSStepFunctionsFullAccess\"\n",
    "    response = iam.attach_role_policy(PolicyArn=\"arn:aws:iam::aws:policy/{}\".format(policy), RoleName=role_name)\n",
    "    print(\"Policy {} has been succesfully attached to role: {}\".format(policy, role_name))\n",
    "except ClientError as e:\n",
    "    if e.response[\"Error\"][\"Code\"] == \"EntityAlreadyExists\":\n",
    "        print(\"[OK] Policy is already attached.\")\n",
    "    elif e.response[\"Error\"][\"Code\"] == \"LimitExceeded\":\n",
    "        print(\"[OK]\")\n",
    "    else:\n",
    "        print(\"*************** [ERROR] {} *****************\".format(e))\n",
    "\n",
    "time.sleep(5)"
   ]
  },
  {
   "cell_type": "code",
   "execution_count": 16,
   "metadata": {},
   "outputs": [
    {
     "name": "stdout",
     "output_type": "stream",
     "text": [
      "*************** [ERROR] An error occurred (AccessDenied) when calling the AttachRolePolicy operation: User: arn:aws:sts::298039562326:assumed-role/mod-6a56f92ff726428b-SageMakerExecutionRole-131HJ8VVEU80K/SageMaker is not authorized to perform: iam:AttachRolePolicy on resource: role mod-6a56f92ff726428b-SageMakerExecutionRole-131HJ8VVEU80K *****************\n"
     ]
    }
   ],
   "source": [
    "from botocore.exceptions import ClientError\n",
    "\n",
    "try:\n",
    "    policy = \"AmazonKinesisFullAccess\"\n",
    "    response = iam.attach_role_policy(PolicyArn=\"arn:aws:iam::aws:policy/{}\".format(policy), RoleName=role_name)\n",
    "    print(\"Policy {} has been succesfully attached to role: {}\".format(policy, role_name))\n",
    "except ClientError as e:\n",
    "    if e.response[\"Error\"][\"Code\"] == \"EntityAlreadyExists\":\n",
    "        print(\"[OK] Policy is already attached.\")\n",
    "    elif e.response[\"Error\"][\"Code\"] == \"LimitExceeded\":\n",
    "        print(\"[OK]\")\n",
    "    else:\n",
    "        print(\"*************** [ERROR] {} *****************\".format(e))\n",
    "\n",
    "time.sleep(5)"
   ]
  },
  {
   "cell_type": "code",
   "execution_count": 17,
   "metadata": {},
   "outputs": [
    {
     "name": "stdout",
     "output_type": "stream",
     "text": [
      "*************** [ERROR] An error occurred (AccessDenied) when calling the AttachRolePolicy operation: User: arn:aws:sts::298039562326:assumed-role/mod-6a56f92ff726428b-SageMakerExecutionRole-131HJ8VVEU80K/SageMaker is not authorized to perform: iam:AttachRolePolicy on resource: role mod-6a56f92ff726428b-SageMakerExecutionRole-131HJ8VVEU80K *****************\n"
     ]
    }
   ],
   "source": [
    "from botocore.exceptions import ClientError\n",
    "\n",
    "try:\n",
    "    policy = \"AmazonKinesisFirehoseFullAccess\"\n",
    "    response = iam.attach_role_policy(PolicyArn=\"arn:aws:iam::aws:policy/{}\".format(policy), RoleName=role_name)\n",
    "    print(\"Policy {} has been succesfully attached to role: {}\".format(policy, role_name))\n",
    "except ClientError as e:\n",
    "    if e.response[\"Error\"][\"Code\"] == \"EntityAlreadyExists\":\n",
    "        print(\"[OK] Policy is already attached.\")\n",
    "    elif e.response[\"Error\"][\"Code\"] == \"LimitExceeded\":\n",
    "        print(\"[OK]\")\n",
    "    else:\n",
    "        print(\"*************** [ERROR] {} *****************\".format(e))\n",
    "\n",
    "time.sleep(5)"
   ]
  },
  {
   "cell_type": "code",
   "execution_count": 18,
   "metadata": {},
   "outputs": [
    {
     "name": "stdout",
     "output_type": "stream",
     "text": [
      "*************** [ERROR] An error occurred (AccessDenied) when calling the AttachRolePolicy operation: User: arn:aws:sts::298039562326:assumed-role/mod-6a56f92ff726428b-SageMakerExecutionRole-131HJ8VVEU80K/SageMaker is not authorized to perform: iam:AttachRolePolicy on resource: role mod-6a56f92ff726428b-SageMakerExecutionRole-131HJ8VVEU80K *****************\n"
     ]
    }
   ],
   "source": [
    "from botocore.exceptions import ClientError\n",
    "\n",
    "try:\n",
    "    policy = \"AmazonKinesisAnalyticsFullAccess\"\n",
    "    response = iam.attach_role_policy(PolicyArn=\"arn:aws:iam::aws:policy/{}\".format(policy), RoleName=role_name)\n",
    "    print(\"Policy {} has been succesfully attached to role: {}\".format(policy, role_name))\n",
    "except ClientError as e:\n",
    "    if e.response[\"Error\"][\"Code\"] == \"EntityAlreadyExists\":\n",
    "        print(\"[OK] Policy is already attached.\")\n",
    "    elif e.response[\"Error\"][\"Code\"] == \"LimitExceeded\":\n",
    "        print(\"[OK]\")\n",
    "    else:\n",
    "        print(\"*************** [ERROR] {} *****************\".format(e))\n",
    "\n",
    "time.sleep(5)"
   ]
  },
  {
   "cell_type": "markdown",
   "metadata": {},
   "source": [
    "# *Final Check*"
   ]
  },
  {
   "cell_type": "code",
   "execution_count": 19,
   "metadata": {},
   "outputs": [
    {
     "name": "stdout",
     "output_type": "stream",
     "text": [
      "*************** [ERROR] RE-RUN THIS NOTEBOOK *****************\n",
      "Not Attached: AdministratorAccess\n",
      "Not Attached: SecretsManagerReadWrite\n",
      "Not Attached: IAMFullAccess\n",
      "Not Attached: ComprehendFullAccess\n",
      "Not Attached: AmazonEC2ContainerRegistryFullAccess\n",
      "Not Attached: AmazonRedshiftFullAccess\n",
      "Not Attached: AWSStepFunctionsFullAccess\n",
      "Not Attached: AmazonKinesisFullAccess\n",
      "Not Attached: AmazonKinesisFirehoseFullAccess\n",
      "Not Attached: AmazonKinesisAnalyticsFullAccess\n"
     ]
    }
   ],
   "source": [
    "# role = iam.get_role(RoleName=role_name)\n",
    "post_policies = iam.list_attached_role_policies(RoleName=role_name)[\"AttachedPolicies\"]\n",
    "\n",
    "required_policies = [\n",
    "    \"AdministratorAccess\",\n",
    "    \"SecretsManagerReadWrite\",\n",
    "    \"IAMFullAccess\",\n",
    "    \"AmazonS3FullAccess\",\n",
    "    \"AmazonAthenaFullAccess\",\n",
    "    \"ComprehendFullAccess\",\n",
    "    \"AmazonEC2ContainerRegistryFullAccess\",\n",
    "    \"AmazonRedshiftFullAccess\",\n",
    "    \"AWSStepFunctionsFullAccess\",\n",
    "    \"AmazonSageMakerFullAccess\",\n",
    "    \"AmazonKinesisFullAccess\",\n",
    "    \"AmazonKinesisFirehoseFullAccess\",\n",
    "    \"AmazonKinesisAnalyticsFullAccess\",\n",
    "]\n",
    "\n",
    "admin = False\n",
    "\n",
    "for post_policy in post_policies:\n",
    "    if post_policy[\"PolicyName\"] == \"AdministratorAccess\":\n",
    "        admin = True\n",
    "        try:\n",
    "            required_policies.remove(post_policy[\"PolicyName\"])\n",
    "        except:\n",
    "            break\n",
    "    else:\n",
    "        try:\n",
    "            required_policies.remove(post_policy[\"PolicyName\"])\n",
    "        except:\n",
    "            pass\n",
    "\n",
    "if not admin and len(required_policies) > 0:\n",
    "    print(\"*************** [ERROR] RE-RUN THIS NOTEBOOK *****************\")\n",
    "    for required_policy in required_policies:\n",
    "        print(\"Not Attached: {}\".format(required_policy))\n",
    "else:\n",
    "    setup_iam_roles_passed = True\n",
    "    print(\"[OK] You are all set up to continue with this workshop!\")"
   ]
  },
  {
   "cell_type": "code",
   "execution_count": 20,
   "metadata": {},
   "outputs": [
    {
     "name": "stdout",
     "output_type": "stream",
     "text": [
      "Stored 'setup_iam_roles_passed' (bool)\n"
     ]
    }
   ],
   "source": [
    "%store setup_iam_roles_passed"
   ]
  },
  {
   "cell_type": "code",
   "execution_count": 21,
   "metadata": {},
   "outputs": [
    {
     "name": "stdout",
     "output_type": "stream",
     "text": [
      "Stored variables and their in-db values:\n",
      "ingest_create_athena_table_parquet_passed             -> True\n",
      "pipeline_endpoint_name                                -> 'bert-model-from-registry-ep-1621110420'\n",
      "pipeline_experiment_name                              -> 'BERT-pipeline-1621102217'\n",
      "pipeline_name                                         -> 'BERT-pipeline-1621102217'\n",
      "pipeline_trial_name                                   -> 'trial-1621102217'\n",
      "s3_private_path_tsv                                   -> 's3://sagemaker-us-east-1-298039562326/amazon-revi\n",
      "s3_public_path_tsv                                    -> 's3://amazon-reviews-pds/tsv'\n",
      "setup_dependencies_passed                             -> True\n",
      "setup_iam_roles_passed                                -> True\n",
      "setup_instance_check_passed                           -> True\n",
      "setup_s3_bucket_passed                                -> True\n",
      "test_data_bias_s3_uri                                 -> 's3://sagemaker-us-east-1-298039562326/bias/test_d\n",
      "test_data_explainablity_s3_uri                        -> 's3://sagemaker-us-east-1-298039562326/bias/test_d\n"
     ]
    }
   ],
   "source": [
    "%store"
   ]
  },
  {
   "cell_type": "markdown",
   "metadata": {},
   "source": [
    "# Release Resources"
   ]
  },
  {
   "cell_type": "code",
   "execution_count": 22,
   "metadata": {},
   "outputs": [
    {
     "data": {
      "text/html": [
       "\n",
       "<p><b>Shutting down your kernel for this notebook to release resources.</b></p>\n",
       "<button class=\"sm-command-button\" data-commandlinker-command=\"kernelmenu:shutdown\" style=\"display:none;\">Shutdown Kernel</button>\n",
       "        \n",
       "<script>\n",
       "try {\n",
       "    els = document.getElementsByClassName(\"sm-command-button\");\n",
       "    els[0].click();\n",
       "}\n",
       "catch(err) {\n",
       "    // NoOp\n",
       "}    \n",
       "</script>\n"
      ],
      "text/plain": [
       "<IPython.core.display.HTML object>"
      ]
     },
     "metadata": {},
     "output_type": "display_data"
    }
   ],
   "source": [
    "%%html\n",
    "\n",
    "<p><b>Shutting down your kernel for this notebook to release resources.</b></p>\n",
    "<button class=\"sm-command-button\" data-commandlinker-command=\"kernelmenu:shutdown\" style=\"display:none;\">Shutdown Kernel</button>\n",
    "        \n",
    "<script>\n",
    "try {\n",
    "    els = document.getElementsByClassName(\"sm-command-button\");\n",
    "    els[0].click();\n",
    "}\n",
    "catch(err) {\n",
    "    // NoOp\n",
    "}    \n",
    "</script>"
   ]
  },
  {
   "cell_type": "code",
   "execution_count": 23,
   "metadata": {},
   "outputs": [
    {
     "data": {
      "application/javascript": [
       "\n",
       "try {\n",
       "    Jupyter.notebook.save_checkpoint();\n",
       "    Jupyter.notebook.session.delete();\n",
       "}\n",
       "catch(err) {\n",
       "    // NoOp\n",
       "}\n"
      ],
      "text/plain": [
       "<IPython.core.display.Javascript object>"
      ]
     },
     "metadata": {},
     "output_type": "display_data"
    }
   ],
   "source": [
    "%%javascript\n",
    "\n",
    "try {\n",
    "    Jupyter.notebook.save_checkpoint();\n",
    "    Jupyter.notebook.session.delete();\n",
    "}\n",
    "catch(err) {\n",
    "    // NoOp\n",
    "}"
   ]
  }
 ],
 "metadata": {
  "kernelspec": {
   "display_name": "Python 3 (Data Science)",
   "language": "python",
   "name": "python3__SAGEMAKER_INTERNAL__arn:aws:sagemaker:us-east-1:081325390199:image/datascience-1.0"
  },
  "language_info": {
   "codemirror_mode": {
    "name": "ipython",
    "version": 3
   },
   "file_extension": ".py",
   "mimetype": "text/x-python",
   "name": "python",
   "nbconvert_exporter": "python",
   "pygments_lexer": "ipython3",
   "version": "3.7.10"
  }
 },
 "nbformat": 4,
 "nbformat_minor": 4
}
