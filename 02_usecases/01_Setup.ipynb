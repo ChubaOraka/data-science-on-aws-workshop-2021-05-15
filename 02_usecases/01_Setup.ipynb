{
 "cells": [
  {
   "cell_type": "markdown",
   "metadata": {},
   "source": [
    "# Upload Sample Images and Videos"
   ]
  },
  {
   "cell_type": "code",
   "execution_count": 1,
   "metadata": {},
   "outputs": [],
   "source": [
    "import boto3\n",
    "import sagemaker\n",
    "\n",
    "sagemaker_session = sagemaker.Session()\n",
    "role = sagemaker.get_execution_role()\n",
    "bucket = sagemaker_session.default_bucket()\n",
    "region = boto3.Session().region_name\n",
    "\n",
    "sm = boto3.Session().client(service_name=\"sagemaker\", region_name=region)"
   ]
  },
  {
   "cell_type": "code",
   "execution_count": 2,
   "metadata": {},
   "outputs": [
    {
     "name": "stdout",
     "output_type": "stream",
     "text": [
      "upload: media/chris-antje.png to s3://sagemaker-us-east-1-298039562326/content-moderation/media/chris-antje.png\n",
      "upload: media/hat-detection.png to s3://sagemaker-us-east-1-298039562326/content-moderation/media/hat-detection.png\n",
      "upload: media/coffee.jpg to s3://sagemaker-us-east-1-298039562326/content-moderation/media/coffee.jpg\n",
      "upload: media/weapon.png to s3://sagemaker-us-east-1-298039562326/content-moderation/media/weapon.png\n",
      "upload: media/weapon.mp4 to s3://sagemaker-us-east-1-298039562326/content-moderation/media/weapon.mp4\n",
      "upload: media/cars.png to s3://sagemaker-us-east-1-298039562326/content-moderation/media/cars.png\n",
      "upload: media/serverless-bytes.mov to s3://sagemaker-us-east-1-298039562326/content-moderation/media/serverless-bytes.mov\n",
      "upload: media/GrandTour720.mp4 to s3://sagemaker-us-east-1-298039562326/content-moderation/media/GrandTour720.mp4\n",
      "upload: media/GrandTourjc.png to s3://sagemaker-us-east-1-298039562326/content-moderation/media/GrandTourjc.png\n"
     ]
    }
   ],
   "source": [
    "!aws s3 cp --recursive ./media/ s3://$bucket/content-moderation/media/"
   ]
  },
  {
   "cell_type": "code",
   "execution_count": 3,
   "metadata": {},
   "outputs": [
    {
     "name": "stdout",
     "output_type": "stream",
     "text": [
      "2021-05-15 20:55:53    5321410 GrandTour720.mp4\n",
      "2021-05-15 20:55:53    3453431 GrandTourjc.png\n",
      "2021-05-15 20:55:53     998652 cars.png\n",
      "2021-05-15 20:55:53     132849 chris-antje.png\n",
      "2021-05-15 20:55:53     182226 coffee.jpg\n",
      "2021-05-15 20:55:53     932907 hat-detection.png\n",
      "2021-05-15 20:55:53    2099007 serverless-bytes.mov\n",
      "2021-05-15 20:55:53     803874 weapon.mp4\n",
      "2021-05-15 20:55:53    1214085 weapon.png\n"
     ]
    }
   ],
   "source": [
    "!aws s3 ls s3://$bucket/content-moderation/media/"
   ]
  },
  {
   "cell_type": "markdown",
   "metadata": {},
   "source": [
    "# Release Resources"
   ]
  },
  {
   "cell_type": "code",
   "execution_count": 4,
   "metadata": {},
   "outputs": [
    {
     "data": {
      "text/html": [
       "\n",
       "<p><b>Shutting down your kernel for this notebook to release resources.</b></p>\n",
       "<button class=\"sm-command-button\" data-commandlinker-command=\"kernelmenu:shutdown\" style=\"display:none;\">Shutdown Kernel</button>\n",
       "        \n",
       "<script>\n",
       "try {\n",
       "    els = document.getElementsByClassName(\"sm-command-button\");\n",
       "    els[0].click();\n",
       "}\n",
       "catch(err) {\n",
       "    // NoOp\n",
       "}    \n",
       "</script>\n"
      ],
      "text/plain": [
       "<IPython.core.display.HTML object>"
      ]
     },
     "metadata": {},
     "output_type": "display_data"
    }
   ],
   "source": [
    "%%html\n",
    "\n",
    "<p><b>Shutting down your kernel for this notebook to release resources.</b></p>\n",
    "<button class=\"sm-command-button\" data-commandlinker-command=\"kernelmenu:shutdown\" style=\"display:none;\">Shutdown Kernel</button>\n",
    "        \n",
    "<script>\n",
    "try {\n",
    "    els = document.getElementsByClassName(\"sm-command-button\");\n",
    "    els[0].click();\n",
    "}\n",
    "catch(err) {\n",
    "    // NoOp\n",
    "}    \n",
    "</script>"
   ]
  },
  {
   "cell_type": "code",
   "execution_count": null,
   "metadata": {},
   "outputs": [
    {
     "data": {
      "application/javascript": [
       "\n",
       "try {\n",
       "    Jupyter.notebook.save_checkpoint();\n",
       "    Jupyter.notebook.session.delete();\n",
       "}\n",
       "catch(err) {\n",
       "    // NoOp\n",
       "}\n"
      ],
      "text/plain": [
       "<IPython.core.display.Javascript object>"
      ]
     },
     "metadata": {},
     "output_type": "display_data"
    }
   ],
   "source": [
    "%%javascript\n",
    "\n",
    "try {\n",
    "    Jupyter.notebook.save_checkpoint();\n",
    "    Jupyter.notebook.session.delete();\n",
    "}\n",
    "catch(err) {\n",
    "    // NoOp\n",
    "}"
   ]
  }
 ],
 "metadata": {
  "kernelspec": {
   "display_name": "Python 3 (Data Science)",
   "language": "python",
   "name": "python3__SAGEMAKER_INTERNAL__arn:aws:sagemaker:us-east-1:081325390199:image/datascience-1.0"
  },
  "language_info": {
   "codemirror_mode": {
    "name": "ipython",
    "version": 3
   },
   "file_extension": ".py",
   "mimetype": "text/x-python",
   "name": "python",
   "nbconvert_exporter": "python",
   "pygments_lexer": "ipython3",
   "version": "3.7.10"
  }
 },
 "nbformat": 4,
 "nbformat_minor": 4
}
