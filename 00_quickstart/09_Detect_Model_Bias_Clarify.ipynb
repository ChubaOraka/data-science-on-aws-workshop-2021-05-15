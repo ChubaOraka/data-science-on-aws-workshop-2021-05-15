{
 "cells": [
  {
   "cell_type": "markdown",
   "metadata": {},
   "source": [
    "# Detect Model Bias with Amazon SageMaker Clarify"
   ]
  },
  {
   "cell_type": "markdown",
   "metadata": {},
   "source": [
    "\n",
    "## Amazon Science: _[How Clarify helps machine learning developers detect unintended bias](https://www.amazon.science/latest-news/how-clarify-helps-machine-learning-developers-detect-unintended-bias)_ \n",
    "\n",
    "[<img src=\"img/amazon_science_clarify.png\"  width=\"100%\" align=\"left\">](https://www.amazon.science/latest-news/how-clarify-helps-machine-learning-developers-detect-unintended-bias)"
   ]
  },
  {
   "cell_type": "markdown",
   "metadata": {},
   "source": [
    "# Terminology\n",
    "\n",
    "* **Bias**: \n",
    "An imbalance in the training data or the prediction behavior of the model across different groups, such as age or income bracket. Biases can result from the data or algorithm used to train your model. For instance, if an ML model is trained primarily on data from middle-aged individuals, it may be less accurate when making predictions involving younger and older people.\n",
    "\n",
    "* **Bias metric**: \n",
    "A function that returns numerical values indicating the level of a potential bias.\n",
    "\n",
    "* **Bias report**:\n",
    "A collection of bias metrics for a given dataset, or a combination of a dataset and a model.\n",
    "\n",
    "* **Label**:\n",
    "Feature that is the target for training a machine learning model. Referred to as the observed label or observed outcome.\n",
    "\n",
    "* **Positive label values**:\n",
    "Label values that are favorable to a demographic group observed in a sample. In other words, designates a sample as having a positive result.\n",
    "\n",
    "* **Negative label values**:\n",
    "Label values that are unfavorable to a demographic group observed in a sample. In other words, designates a sample as having a negative result.\n",
    "\n",
    "* **Facet**:\n",
    "A column or feature that contains the attributes with respect to which bias is measured.\n",
    "\n",
    "* **Facet value**:\n",
    "The feature values of attributes that bias might favor or disfavor."
   ]
  },
  {
   "cell_type": "markdown",
   "metadata": {},
   "source": [
    "# Posttraining Bias Metrics\n",
    "https://docs.aws.amazon.com/sagemaker/latest/dg/clarify-measure-post-training-bias.html\n",
    "\n",
    "* **Difference in Positive Proportions in Predicted Labels (DPPL)**:\n",
    "Measures the difference in the proportion of positive predictions between the favored facet a and the disfavored facet d.\n",
    "\n",
    "* **Disparate Impact (DI)**:\n",
    "Measures the ratio of proportions of the predicted labels for the favored facet a and the disfavored facet d.\n",
    "\n",
    "* **Difference in Conditional Acceptance (DCAcc)**:\n",
    "Compares the observed labels to the labels predicted by a model and assesses whether this is the same across facets for predicted positive outcomes (acceptances).\n",
    "\n",
    "* **Difference in Conditional Rejection (DCR)**:\n",
    "Compares the observed labels to the labels predicted by a model and assesses whether this is the same across facets for negative outcomes (rejections).\n",
    "\n",
    "* **Recall Difference (RD)**:\n",
    "Compares the recall of the model for the favored and disfavored facets.\n",
    "\n",
    "* **Difference in Acceptance Rates (DAR)**:\n",
    "Measures the difference in the ratios of the observed positive outcomes (TP) to the predicted positives (TP + FP) between the favored and disfavored facets.\n",
    "\n",
    "* **Difference in Rejection Rates (DRR)**:\n",
    "Measures the difference in the ratios of the observed negative outcomes (TN) to the predicted negatives (TN + FN) between the disfavored and favored facets.\n",
    "\n",
    "* **Accuracy Difference (AD)**:\n",
    "Measures the difference between the prediction accuracy for the favored and disfavored facets.\n",
    "\n",
    "* **Treatment Equality (TE)**:\n",
    "Measures the difference in the ratio of false positives to false negatives between the favored and disfavored facets.\n",
    "\n",
    "* **Conditional Demographic Disparity in Predicted Labels (CDDPL)**:\n",
    "Measures the disparity of predicted labels between the facets as a whole, but also by subgroups.\n",
    "\n",
    "* **Counterfactual Fliptest (FT)**:\n",
    "Examines each member of facet d and assesses whether similar members of facet a have different model predictions.\n"
   ]
  },
  {
   "cell_type": "code",
   "execution_count": 1,
   "metadata": {},
   "outputs": [],
   "source": [
    "import boto3\n",
    "import sagemaker\n",
    "import pandas as pd\n",
    "import numpy as np\n",
    "\n",
    "sess = sagemaker.Session()\n",
    "bucket = sess.default_bucket()\n",
    "role = sagemaker.get_execution_role()\n",
    "region = boto3.Session().region_name\n",
    "\n",
    "sm = boto3.Session().client(service_name=\"sagemaker\", region_name=region)"
   ]
  },
  {
   "cell_type": "code",
   "execution_count": 2,
   "metadata": {},
   "outputs": [],
   "source": [
    "import matplotlib.pyplot as plt\n",
    "\n",
    "%matplotlib inline\n",
    "%config InlineBackend.figure_format='retina'"
   ]
  },
  {
   "cell_type": "markdown",
   "metadata": {},
   "source": [
    "# Test data for bias\n",
    "\n",
    "We created test data in JSONLines format to match the model inputs. "
   ]
  },
  {
   "cell_type": "code",
   "execution_count": 3,
   "metadata": {},
   "outputs": [],
   "source": [
    "test_data_bias_path = \"./data-clarify/test_data_bias.jsonl\""
   ]
  },
  {
   "cell_type": "code",
   "execution_count": 4,
   "metadata": {},
   "outputs": [
    {
     "name": "stdout",
     "output_type": "stream",
     "text": [
      "{\"features\":[\"I have been using Quicken for years now and it does everything that I need it to accomplish for my personal finances.\",\"Digital_Software\"],\"star_rating\":4}\n"
     ]
    }
   ],
   "source": [
    "!head -n 1 $test_data_bias_path"
   ]
  },
  {
   "cell_type": "markdown",
   "metadata": {},
   "source": [
    "### Upload the data"
   ]
  },
  {
   "cell_type": "code",
   "execution_count": 5,
   "metadata": {},
   "outputs": [
    {
     "data": {
      "text/plain": [
       "'s3://sagemaker-us-east-1-298039562326/bias/test_data_bias/test_data_bias.jsonl'"
      ]
     },
     "execution_count": 5,
     "metadata": {},
     "output_type": "execute_result"
    }
   ],
   "source": [
    "test_data_bias_s3_uri = sess.upload_data(bucket=bucket, key_prefix=\"bias/test_data_bias\", path=test_data_bias_path)\n",
    "test_data_bias_s3_uri"
   ]
  },
  {
   "cell_type": "code",
   "execution_count": 6,
   "metadata": {},
   "outputs": [
    {
     "name": "stdout",
     "output_type": "stream",
     "text": [
      "2021-05-15 19:56:32     197983 test_data_bias.jsonl\n"
     ]
    }
   ],
   "source": [
    "!aws s3 ls $test_data_bias_s3_uri"
   ]
  },
  {
   "cell_type": "code",
   "execution_count": 7,
   "metadata": {},
   "outputs": [
    {
     "name": "stdout",
     "output_type": "stream",
     "text": [
      "Stored 'test_data_bias_s3_uri' (str)\n"
     ]
    }
   ],
   "source": [
    "%store test_data_bias_s3_uri"
   ]
  },
  {
   "cell_type": "markdown",
   "metadata": {},
   "source": [
    "# Run Posttraining Model Bias Analysis"
   ]
  },
  {
   "cell_type": "code",
   "execution_count": 8,
   "metadata": {},
   "outputs": [],
   "source": [
    "%store -r pipeline_name"
   ]
  },
  {
   "cell_type": "code",
   "execution_count": 9,
   "metadata": {},
   "outputs": [
    {
     "name": "stdout",
     "output_type": "stream",
     "text": [
      "BERT-pipeline-1621102217\n"
     ]
    }
   ],
   "source": [
    "print(pipeline_name)"
   ]
  },
  {
   "cell_type": "code",
   "execution_count": 10,
   "metadata": {},
   "outputs": [
    {
     "name": "stdout",
     "output_type": "stream",
     "text": [
      "Succeeded\n",
      "[{'PipelineExecutionArn': 'arn:aws:sagemaker:us-east-1:298039562326:pipeline/bert-pipeline-1621102217/execution/34f5wo3bayx8',\n",
      "  'PipelineExecutionDisplayName': 'execution-1621102228350',\n",
      "  'PipelineExecutionStatus': 'Succeeded',\n",
      "  'StartTime': datetime.datetime(2021, 5, 15, 18, 10, 28, 189000, tzinfo=tzlocal())}]\n",
      "CPU times: user 10.3 ms, sys: 4.39 ms, total: 14.7 ms\n",
      "Wall time: 106 ms\n"
     ]
    }
   ],
   "source": [
    "%%time\n",
    "\n",
    "import time\n",
    "from pprint import pprint\n",
    "\n",
    "executions_response = sm.list_pipeline_executions(PipelineName=pipeline_name)[\"PipelineExecutionSummaries\"]\n",
    "pipeline_execution_status = executions_response[0][\"PipelineExecutionStatus\"]\n",
    "print(pipeline_execution_status)\n",
    "\n",
    "while pipeline_execution_status == \"Executing\":\n",
    "    try:\n",
    "        executions_response = sm.list_pipeline_executions(PipelineName=pipeline_name)[\"PipelineExecutionSummaries\"]\n",
    "        pipeline_execution_status = executions_response[0][\"PipelineExecutionStatus\"]\n",
    "    except Exception as e:\n",
    "        print(\"Please wait...\")\n",
    "        time.sleep(30)\n",
    "\n",
    "pprint(executions_response)"
   ]
  },
  {
   "cell_type": "markdown",
   "metadata": {},
   "source": [
    "# List Pipeline Execution Steps\n"
   ]
  },
  {
   "cell_type": "code",
   "execution_count": 11,
   "metadata": {},
   "outputs": [
    {
     "name": "stdout",
     "output_type": "stream",
     "text": [
      "Succeeded\n"
     ]
    }
   ],
   "source": [
    "pipeline_execution_status = executions_response[0][\"PipelineExecutionStatus\"]\n",
    "print(pipeline_execution_status)"
   ]
  },
  {
   "cell_type": "code",
   "execution_count": 12,
   "metadata": {},
   "outputs": [
    {
     "name": "stdout",
     "output_type": "stream",
     "text": [
      "arn:aws:sagemaker:us-east-1:298039562326:pipeline/bert-pipeline-1621102217/execution/34f5wo3bayx8\n"
     ]
    }
   ],
   "source": [
    "pipeline_execution_arn = executions_response[0][\"PipelineExecutionArn\"]\n",
    "print(pipeline_execution_arn)"
   ]
  },
  {
   "cell_type": "code",
   "execution_count": 13,
   "metadata": {},
   "outputs": [
    {
     "name": "stdout",
     "output_type": "stream",
     "text": [
      "{'PipelineExecutionSteps': [{'EndTime': datetime.datetime(2021, 5, 15, 18, 48, 17, 743000, tzinfo=tzlocal()),\n",
      "                             'Metadata': {'RegisterModel': {'Arn': 'arn:aws:sagemaker:us-east-1:298039562326:model-package/bert-reviews-1621102219/1'}},\n",
      "                             'StartTime': datetime.datetime(2021, 5, 15, 18, 48, 16, 822000, tzinfo=tzlocal()),\n",
      "                             'StepName': 'RegisterModel',\n",
      "                             'StepStatus': 'Succeeded'},\n",
      "                            {'EndTime': datetime.datetime(2021, 5, 15, 18, 48, 17, 529000, tzinfo=tzlocal()),\n",
      "                             'Metadata': {'Model': {'Arn': 'arn:aws:sagemaker:us-east-1:298039562326:model/pipelines-34f5wo3bayx8-createmodel-bbjbc6kn0t'}},\n",
      "                             'StartTime': datetime.datetime(2021, 5, 15, 18, 48, 16, 820000, tzinfo=tzlocal()),\n",
      "                             'StepName': 'CreateModel',\n",
      "                             'StepStatus': 'Succeeded'},\n",
      "                            {'EndTime': datetime.datetime(2021, 5, 15, 18, 48, 16, 180000, tzinfo=tzlocal()),\n",
      "                             'Metadata': {'Condition': {'Outcome': 'True'}},\n",
      "                             'StartTime': datetime.datetime(2021, 5, 15, 18, 48, 15, 454000, tzinfo=tzlocal()),\n",
      "                             'StepName': 'AccuracyCondition',\n",
      "                             'StepStatus': 'Succeeded'},\n",
      "                            {'EndTime': datetime.datetime(2021, 5, 15, 18, 48, 15, 88000, tzinfo=tzlocal()),\n",
      "                             'Metadata': {'ProcessingJob': {'Arn': 'arn:aws:sagemaker:us-east-1:298039562326:processing-job/pipelines-34f5wo3bayx8-evaluatemodel-ljy0cqgn2h'}},\n",
      "                             'StartTime': datetime.datetime(2021, 5, 15, 18, 39, 35, 268000, tzinfo=tzlocal()),\n",
      "                             'StepName': 'EvaluateModel',\n",
      "                             'StepStatus': 'Succeeded'},\n",
      "                            {'EndTime': datetime.datetime(2021, 5, 15, 18, 39, 34, 968000, tzinfo=tzlocal()),\n",
      "                             'Metadata': {'TrainingJob': {'Arn': 'arn:aws:sagemaker:us-east-1:298039562326:training-job/pipelines-34f5wo3bayx8-train-wwktbnzp56'}},\n",
      "                             'StartTime': datetime.datetime(2021, 5, 15, 18, 21, 33, 560000, tzinfo=tzlocal()),\n",
      "                             'StepName': 'Train',\n",
      "                             'StepStatus': 'Succeeded'},\n",
      "                            {'EndTime': datetime.datetime(2021, 5, 15, 18, 21, 33, 374000, tzinfo=tzlocal()),\n",
      "                             'Metadata': {'ProcessingJob': {'Arn': 'arn:aws:sagemaker:us-east-1:298039562326:processing-job/pipelines-34f5wo3bayx8-processing-dbudxewbqg'}},\n",
      "                             'StartTime': datetime.datetime(2021, 5, 15, 18, 10, 28, 801000, tzinfo=tzlocal()),\n",
      "                             'StepName': 'Processing',\n",
      "                             'StepStatus': 'Succeeded'}],\n",
      " 'ResponseMetadata': {'HTTPHeaders': {'content-length': '1378',\n",
      "                                      'content-type': 'application/x-amz-json-1.1',\n",
      "                                      'date': 'Sat, 15 May 2021 19:56:32 GMT',\n",
      "                                      'x-amzn-requestid': 'f079039a-ff18-483c-bf2a-7a250045f845'},\n",
      "                      'HTTPStatusCode': 200,\n",
      "                      'RequestId': 'f079039a-ff18-483c-bf2a-7a250045f845',\n",
      "                      'RetryAttempts': 0}}\n"
     ]
    }
   ],
   "source": [
    "from pprint import pprint\n",
    "\n",
    "steps = sm.list_pipeline_execution_steps(PipelineExecutionArn=pipeline_execution_arn)\n",
    "\n",
    "pprint(steps)"
   ]
  },
  {
   "cell_type": "markdown",
   "metadata": {},
   "source": [
    "# View Created Model\n",
    "_Note:  If the trained model did not pass the Evaluation step (> accuracy threshold), it will not be created._"
   ]
  },
  {
   "cell_type": "code",
   "execution_count": 14,
   "metadata": {},
   "outputs": [
    {
     "name": "stdout",
     "output_type": "stream",
     "text": [
      "arn:aws:sagemaker:us-east-1:298039562326:model/pipelines-34f5wo3bayx8-createmodel-bbjbc6kn0t\n",
      "pipelines-34f5wo3bayx8-createmodel-bbjbc6kn0t\n"
     ]
    }
   ],
   "source": [
    "for execution_step in steps[\"PipelineExecutionSteps\"]:\n",
    "    if execution_step[\"StepName\"] == \"CreateModel\":\n",
    "        model_arn = execution_step[\"Metadata\"][\"Model\"][\"Arn\"]\n",
    "        break\n",
    "print(model_arn)\n",
    "\n",
    "pipeline_model_name = model_arn.split(\"/\")[-1]\n",
    "print(pipeline_model_name)"
   ]
  },
  {
   "cell_type": "markdown",
   "metadata": {},
   "source": [
    "# SageMakerClarifyProcessor"
   ]
  },
  {
   "cell_type": "code",
   "execution_count": 15,
   "metadata": {},
   "outputs": [],
   "source": [
    "from sagemaker import clarify\n",
    "\n",
    "clarify_processor = clarify.SageMakerClarifyProcessor(\n",
    "    role=role, instance_count=1, instance_type=\"ml.c5.2xlarge\", sagemaker_session=sess\n",
    ")"
   ]
  },
  {
   "cell_type": "markdown",
   "metadata": {},
   "source": [
    "# Writing DataConfig and ModelConfig\n",
    "A `DataConfig` object communicates some basic information about data I/O to Clarify. We specify where to find the input dataset, where to store the output, the target column (`label`), the header names, and the dataset type.\n",
    "\n",
    "Similarly, the `ModelConfig` object communicates information about your trained model and `ModelPredictedLabelConfig` provides information on the format of your predictions.  \n",
    "\n",
    "**Note**: To avoid additional traffic to your production models, SageMaker Clarify sets up and tears down a dedicated endpoint when processing. `ModelConfig` specifies your preferred instance type and instance count used to run your model on during Clarify's processing."
   ]
  },
  {
   "cell_type": "markdown",
   "metadata": {},
   "source": [
    "## DataConfig"
   ]
  },
  {
   "cell_type": "code",
   "execution_count": 16,
   "metadata": {},
   "outputs": [],
   "source": [
    "bias_report_prefix = \"bias/report-{}\".format(pipeline_model_name)\n",
    "\n",
    "bias_report_output_path = \"s3://{}/{}\".format(bucket, bias_report_prefix)\n",
    "\n",
    "data_config = clarify.DataConfig(\n",
    "    s3_data_input_path=test_data_bias_s3_uri,\n",
    "    s3_output_path=bias_report_output_path,\n",
    "    label=\"star_rating\",\n",
    "    features=\"features\",\n",
    "    # label must be last, features in exact order as passed into model\n",
    "    headers=[\"review_body\", \"product_category\", \"star_rating\"],\n",
    "    dataset_type=\"application/jsonlines\",\n",
    ")"
   ]
  },
  {
   "cell_type": "markdown",
   "metadata": {},
   "source": [
    "## ModelConfig"
   ]
  },
  {
   "cell_type": "code",
   "execution_count": 17,
   "metadata": {},
   "outputs": [],
   "source": [
    "model_config = clarify.ModelConfig(\n",
    "    model_name=pipeline_model_name,\n",
    "    instance_type=\"ml.m5.4xlarge\",\n",
    "    instance_count=1,\n",
    "    content_type=\"application/jsonlines\",\n",
    "    accept_type=\"application/jsonlines\",\n",
    "    # {\"features\": [\"the worst\", \"Digital_Software\"]}\n",
    "    content_template='{\"features\":$features}',\n",
    ")"
   ]
  },
  {
   "cell_type": "markdown",
   "metadata": {},
   "source": [
    "## _Note: `label` is set to the JSON key for the model prediction results_"
   ]
  },
  {
   "cell_type": "code",
   "execution_count": 18,
   "metadata": {},
   "outputs": [],
   "source": [
    "predictions_config = clarify.ModelPredictedLabelConfig(label=\"predicted_label\")"
   ]
  },
  {
   "cell_type": "markdown",
   "metadata": {},
   "source": [
    "## BiasConfig"
   ]
  },
  {
   "cell_type": "code",
   "execution_count": 19,
   "metadata": {},
   "outputs": [],
   "source": [
    "bias_config = clarify.BiasConfig(\n",
    "    label_values_or_threshold=[\n",
    "        5,\n",
    "        4,\n",
    "    ],  # needs to be int or str for continuous dtype, needs to be >1 for categorical dtype\n",
    "    facet_name=\"product_category\",\n",
    "    #                                facet_values_or_threshold=['Gift Card'],\n",
    "    group_name=\"product_category\",\n",
    ")"
   ]
  },
  {
   "cell_type": "markdown",
   "metadata": {},
   "source": [
    "# Run Clarify Job"
   ]
  },
  {
   "cell_type": "code",
   "execution_count": 20,
   "metadata": {},
   "outputs": [
    {
     "name": "stdout",
     "output_type": "stream",
     "text": [
      "\n",
      "Job Name:  Clarify-Posttraining-Bias-2021-05-15-19-56-33-535\n",
      "Inputs:  [{'InputName': 'dataset', 'AppManaged': False, 'S3Input': {'S3Uri': 's3://sagemaker-us-east-1-298039562326/bias/test_data_bias/test_data_bias.jsonl', 'LocalPath': '/opt/ml/processing/input/data', 'S3DataType': 'S3Prefix', 'S3InputMode': 'File', 'S3DataDistributionType': 'FullyReplicated', 'S3CompressionType': 'None'}}, {'InputName': 'analysis_config', 'AppManaged': False, 'S3Input': {'S3Uri': 's3://sagemaker-us-east-1-298039562326/bias/report-pipelines-34f5wo3bayx8-createmodel-bbjbc6kn0t/analysis_config.json', 'LocalPath': '/opt/ml/processing/input/config', 'S3DataType': 'S3Prefix', 'S3InputMode': 'File', 'S3DataDistributionType': 'FullyReplicated', 'S3CompressionType': 'None'}}]\n",
      "Outputs:  [{'OutputName': 'analysis_result', 'AppManaged': False, 'S3Output': {'S3Uri': 's3://sagemaker-us-east-1-298039562326/bias/report-pipelines-34f5wo3bayx8-createmodel-bbjbc6kn0t', 'LocalPath': '/opt/ml/processing/output', 'S3UploadMode': 'EndOfJob'}}]\n"
     ]
    }
   ],
   "source": [
    "clarify_processor.run_post_training_bias(\n",
    "    data_config=data_config,\n",
    "    data_bias_config=bias_config,\n",
    "    model_config=model_config,\n",
    "    model_predicted_label_config=predictions_config,\n",
    "    #    methods='all', # FlipTest requires all columns to be numeric\n",
    "    methods=[\"DPPL\", \"DI\", \"DCA\", \"DCR\", \"RD\", \"DAR\", \"DRR\", \"AD\", \"CDDPL\", \"TE\"],\n",
    "    wait=False,\n",
    "    logs=False,\n",
    ")"
   ]
  },
  {
   "cell_type": "code",
   "execution_count": 21,
   "metadata": {},
   "outputs": [
    {
     "data": {
      "text/plain": [
       "'Clarify-Posttraining-Bias-2021-05-15-19-56-33-535'"
      ]
     },
     "execution_count": 21,
     "metadata": {},
     "output_type": "execute_result"
    }
   ],
   "source": [
    "run_post_training_bias_processing_job_name = clarify_processor.latest_job.job_name\n",
    "run_post_training_bias_processing_job_name"
   ]
  },
  {
   "cell_type": "code",
   "execution_count": 22,
   "metadata": {},
   "outputs": [
    {
     "data": {
      "text/html": [
       "<b>Review <a target=\"blank\" href=\"https://console.aws.amazon.com/sagemaker/home?region=us-east-1#/processing-jobs/Clarify-Posttraining-Bias-2021-05-15-19-56-33-535\">Processing Job</a></b>"
      ],
      "text/plain": [
       "<IPython.core.display.HTML object>"
      ]
     },
     "metadata": {},
     "output_type": "display_data"
    }
   ],
   "source": [
    "from IPython.core.display import display, HTML\n",
    "\n",
    "display(\n",
    "    HTML(\n",
    "        '<b>Review <a target=\"blank\" href=\"https://console.aws.amazon.com/sagemaker/home?region={}#/processing-jobs/{}\">Processing Job</a></b>'.format(\n",
    "            region, run_post_training_bias_processing_job_name\n",
    "        )\n",
    "    )\n",
    ")"
   ]
  },
  {
   "cell_type": "code",
   "execution_count": 23,
   "metadata": {},
   "outputs": [
    {
     "data": {
      "text/html": [
       "<b>Review <a target=\"blank\" href=\"https://console.aws.amazon.com/cloudwatch/home?region=us-east-1#logStream:group=/aws/sagemaker/ProcessingJobs;prefix=Clarify-Posttraining-Bias-2021-05-15-19-56-33-535;streamFilter=typeLogStreamPrefix\">CloudWatch Logs</a> After About 5 Minutes</b>"
      ],
      "text/plain": [
       "<IPython.core.display.HTML object>"
      ]
     },
     "metadata": {},
     "output_type": "display_data"
    }
   ],
   "source": [
    "from IPython.core.display import display, HTML\n",
    "\n",
    "display(\n",
    "    HTML(\n",
    "        '<b>Review <a target=\"blank\" href=\"https://console.aws.amazon.com/cloudwatch/home?region={}#logStream:group=/aws/sagemaker/ProcessingJobs;prefix={};streamFilter=typeLogStreamPrefix\">CloudWatch Logs</a> After About 5 Minutes</b>'.format(\n",
    "            region, run_post_training_bias_processing_job_name\n",
    "        )\n",
    "    )\n",
    ")"
   ]
  },
  {
   "cell_type": "code",
   "execution_count": 24,
   "metadata": {},
   "outputs": [
    {
     "data": {
      "text/html": [
       "<b>Review <a target=\"blank\" href=\"https://s3.console.aws.amazon.com/s3/buckets/sagemaker-us-east-1-298039562326?prefix=bias/report-pipelines-34f5wo3bayx8-createmodel-bbjbc6kn0t/\">S3 Output Data</a> After The Processing Job Has Completed</b>"
      ],
      "text/plain": [
       "<IPython.core.display.HTML object>"
      ]
     },
     "metadata": {},
     "output_type": "display_data"
    }
   ],
   "source": [
    "from IPython.core.display import display, HTML\n",
    "\n",
    "display(\n",
    "    HTML(\n",
    "        '<b>Review <a target=\"blank\" href=\"https://s3.console.aws.amazon.com/s3/buckets/{}?prefix={}/\">S3 Output Data</a> After The Processing Job Has Completed</b>'.format(\n",
    "            bucket, bias_report_prefix\n",
    "        )\n",
    "    )\n",
    ")"
   ]
  },
  {
   "cell_type": "code",
   "execution_count": 25,
   "metadata": {},
   "outputs": [
    {
     "name": "stdout",
     "output_type": "stream",
     "text": [
      "{'AppSpecification': {'ImageUri': '205585389593.dkr.ecr.us-east-1.amazonaws.com/sagemaker-clarify-processing:1.0'},\n",
      " 'CreationTime': datetime.datetime(2021, 5, 15, 19, 56, 33, 823000, tzinfo=tzlocal()),\n",
      " 'LastModifiedTime': datetime.datetime(2021, 5, 15, 19, 56, 33, 823000, tzinfo=tzlocal()),\n",
      " 'ProcessingInputs': [{'AppManaged': False,\n",
      "                       'InputName': 'dataset',\n",
      "                       'S3Input': {'LocalPath': '/opt/ml/processing/input/data',\n",
      "                                   'S3CompressionType': 'None',\n",
      "                                   'S3DataDistributionType': 'FullyReplicated',\n",
      "                                   'S3DataType': 'S3Prefix',\n",
      "                                   'S3InputMode': 'File',\n",
      "                                   'S3Uri': 's3://sagemaker-us-east-1-298039562326/bias/test_data_bias/test_data_bias.jsonl'}},\n",
      "                      {'AppManaged': False,\n",
      "                       'InputName': 'analysis_config',\n",
      "                       'S3Input': {'LocalPath': '/opt/ml/processing/input/config',\n",
      "                                   'S3CompressionType': 'None',\n",
      "                                   'S3DataDistributionType': 'FullyReplicated',\n",
      "                                   'S3DataType': 'S3Prefix',\n",
      "                                   'S3InputMode': 'File',\n",
      "                                   'S3Uri': 's3://sagemaker-us-east-1-298039562326/bias/report-pipelines-34f5wo3bayx8-createmodel-bbjbc6kn0t/analysis_config.json'}}],\n",
      " 'ProcessingJobArn': 'arn:aws:sagemaker:us-east-1:298039562326:processing-job/clarify-posttraining-bias-2021-05-15-19-56-33-535',\n",
      " 'ProcessingJobName': 'Clarify-Posttraining-Bias-2021-05-15-19-56-33-535',\n",
      " 'ProcessingJobStatus': 'InProgress',\n",
      " 'ProcessingOutputConfig': {'Outputs': [{'AppManaged': False,\n",
      "                                         'OutputName': 'analysis_result',\n",
      "                                         'S3Output': {'LocalPath': '/opt/ml/processing/output',\n",
      "                                                      'S3UploadMode': 'EndOfJob',\n",
      "                                                      'S3Uri': 's3://sagemaker-us-east-1-298039562326/bias/report-pipelines-34f5wo3bayx8-createmodel-bbjbc6kn0t'}}]},\n",
      " 'ProcessingResources': {'ClusterConfig': {'InstanceCount': 1,\n",
      "                                           'InstanceType': 'ml.c5.2xlarge',\n",
      "                                           'VolumeSizeInGB': 30}},\n",
      " 'ResponseMetadata': {'HTTPHeaders': {'content-length': '1806',\n",
      "                                      'content-type': 'application/x-amz-json-1.1',\n",
      "                                      'date': 'Sat, 15 May 2021 19:56:33 GMT',\n",
      "                                      'x-amzn-requestid': '883a55dd-cf60-4307-a2e8-d4fd6a1ae78e'},\n",
      "                      'HTTPStatusCode': 200,\n",
      "                      'RequestId': '883a55dd-cf60-4307-a2e8-d4fd6a1ae78e',\n",
      "                      'RetryAttempts': 0},\n",
      " 'RoleArn': 'arn:aws:iam::298039562326:role/mod-6a56f92ff726428b-SageMakerExecutionRole-131HJ8VVEU80K',\n",
      " 'StoppingCondition': {'MaxRuntimeInSeconds': 86400}}\n"
     ]
    }
   ],
   "source": [
    "from pprint import pprint\n",
    "\n",
    "running_processor = sagemaker.processing.ProcessingJob.from_processing_name(\n",
    "    processing_job_name=run_post_training_bias_processing_job_name, sagemaker_session=sess\n",
    ")\n",
    "\n",
    "processing_job_description = running_processor.describe()\n",
    "\n",
    "pprint(processing_job_description)"
   ]
  },
  {
   "cell_type": "code",
   "execution_count": 26,
   "metadata": {},
   "outputs": [
    {
     "name": "stdout",
     "output_type": "stream",
     "text": [
      "...........................................................................................................................................!"
     ]
    }
   ],
   "source": [
    "running_processor.wait(logs=False)"
   ]
  },
  {
   "cell_type": "markdown",
   "metadata": {},
   "source": [
    "# Download Report From S3"
   ]
  },
  {
   "cell_type": "code",
   "execution_count": 27,
   "metadata": {},
   "outputs": [
    {
     "name": "stdout",
     "output_type": "stream",
     "text": [
      "2021-05-15 20:08:03       7708 analysis.json\n",
      "2021-05-15 19:56:34        752 analysis_config.json\n",
      "2021-05-15 20:08:03     277793 report.html\n",
      "2021-05-15 20:08:03       6608 report.ipynb\n",
      "2021-05-15 20:08:03      41585 report.pdf\n"
     ]
    }
   ],
   "source": [
    "!aws s3 ls $bias_report_output_path/"
   ]
  },
  {
   "cell_type": "code",
   "execution_count": 28,
   "metadata": {},
   "outputs": [
    {
     "name": "stdout",
     "output_type": "stream",
     "text": [
      "download: s3://sagemaker-us-east-1-298039562326/bias/report-pipelines-34f5wo3bayx8-createmodel-bbjbc6kn0t/analysis_config.json to generated_bias_report/analysis_config.json\n",
      "download: s3://sagemaker-us-east-1-298039562326/bias/report-pipelines-34f5wo3bayx8-createmodel-bbjbc6kn0t/analysis.json to generated_bias_report/analysis.json\n",
      "download: s3://sagemaker-us-east-1-298039562326/bias/report-pipelines-34f5wo3bayx8-createmodel-bbjbc6kn0t/report.html to generated_bias_report/report.html\n",
      "download: s3://sagemaker-us-east-1-298039562326/bias/report-pipelines-34f5wo3bayx8-createmodel-bbjbc6kn0t/report.pdf to generated_bias_report/report.pdf\n",
      "download: s3://sagemaker-us-east-1-298039562326/bias/report-pipelines-34f5wo3bayx8-createmodel-bbjbc6kn0t/report.ipynb to generated_bias_report/report.ipynb\n"
     ]
    }
   ],
   "source": [
    "!aws s3 cp --recursive $bias_report_output_path ./generated_bias_report/"
   ]
  },
  {
   "cell_type": "code",
   "execution_count": 29,
   "metadata": {},
   "outputs": [
    {
     "data": {
      "text/html": [
       "<b>Review <a target=\"blank\" href=\"./generated_bias_report/report.html\">Bias Report</a></b>"
      ],
      "text/plain": [
       "<IPython.core.display.HTML object>"
      ]
     },
     "metadata": {},
     "output_type": "display_data"
    }
   ],
   "source": [
    "from IPython.core.display import display, HTML\n",
    "\n",
    "display(HTML('<b>Review <a target=\"blank\" href=\"./generated_bias_report/report.html\">Bias Report</a></b>'))"
   ]
  },
  {
   "cell_type": "markdown",
   "metadata": {},
   "source": [
    "# View Bias Report in Studio\n",
    "In Studio, you can view the results under the experiments tab.\n",
    "\n",
    "<img src=\"img/bias_report.gif\">\n",
    "\n",
    "Each bias metric has detailed explanations with examples that you can explore.\n",
    "\n",
    "<img src=\"img/bias_detail.gif\">\n",
    "\n",
    "You could also summarize the results in a handy table!\n",
    "\n",
    "<img src=\"img/bias_report_chart.gif\">"
   ]
  },
  {
   "cell_type": "markdown",
   "metadata": {},
   "source": [
    "# Release Resources"
   ]
  },
  {
   "cell_type": "code",
   "execution_count": 30,
   "metadata": {},
   "outputs": [
    {
     "data": {
      "text/html": [
       "\n",
       "<p><b>Shutting down your kernel for this notebook to release resources.</b></p>\n",
       "<button class=\"sm-command-button\" data-commandlinker-command=\"kernelmenu:shutdown\" style=\"display:none;\">Shutdown Kernel</button>\n",
       "        \n",
       "<script>\n",
       "try {\n",
       "    els = document.getElementsByClassName(\"sm-command-button\");\n",
       "    els[0].click();\n",
       "}\n",
       "catch(err) {\n",
       "    // NoOp\n",
       "}    \n",
       "</script>\n"
      ],
      "text/plain": [
       "<IPython.core.display.HTML object>"
      ]
     },
     "metadata": {},
     "output_type": "display_data"
    }
   ],
   "source": [
    "%%html\n",
    "\n",
    "<p><b>Shutting down your kernel for this notebook to release resources.</b></p>\n",
    "<button class=\"sm-command-button\" data-commandlinker-command=\"kernelmenu:shutdown\" style=\"display:none;\">Shutdown Kernel</button>\n",
    "        \n",
    "<script>\n",
    "try {\n",
    "    els = document.getElementsByClassName(\"sm-command-button\");\n",
    "    els[0].click();\n",
    "}\n",
    "catch(err) {\n",
    "    // NoOp\n",
    "}    \n",
    "</script>"
   ]
  }
 ],
 "metadata": {
  "kernelspec": {
   "display_name": "Python 3 (Data Science)",
   "language": "python",
   "name": "python3__SAGEMAKER_INTERNAL__arn:aws:sagemaker:us-east-1:081325390199:image/datascience-1.0"
  },
  "language_info": {
   "codemirror_mode": {
    "name": "ipython",
    "version": 3
   },
   "file_extension": ".py",
   "mimetype": "text/x-python",
   "name": "python",
   "nbconvert_exporter": "python",
   "pygments_lexer": "ipython3",
   "version": "3.7.10"
  }
 },
 "nbformat": 4,
 "nbformat_minor": 4
}
