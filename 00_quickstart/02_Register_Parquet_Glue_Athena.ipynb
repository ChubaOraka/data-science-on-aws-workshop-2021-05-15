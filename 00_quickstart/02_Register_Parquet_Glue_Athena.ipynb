{
 "cells": [
  {
   "cell_type": "markdown",
   "metadata": {},
   "source": [
    "# Query the Dataset in S3 using Amazon Athena and AWS Glue Catalog\n",
    "This will create an Athena table in the Glue Catalog (Hive Metastore) which allows us to query the dataset files in S3.  We will create a table in the Glue Catalog based on the `Amazon Customer Reviews Dataset` in S3.  We define the columns that map to the data, specify how the data is formatted, and provide the location in Amazon S3 for the file(s).\n"
   ]
  },
  {
   "cell_type": "markdown",
   "metadata": {},
   "source": [
    "<img src=\"img/athena_register_parquet.png\" width=\"60%\" align=\"left\">"
   ]
  },
  {
   "cell_type": "code",
   "execution_count": 1,
   "metadata": {},
   "outputs": [],
   "source": [
    "import boto3\n",
    "import sagemaker\n",
    "\n",
    "sess = sagemaker.Session()\n",
    "bucket = sess.default_bucket()\n",
    "role = sagemaker.get_execution_role()\n",
    "region = boto3.Session().region_name\n",
    "account_id = boto3.client(\"sts\").get_caller_identity().get(\"Account\")"
   ]
  },
  {
   "cell_type": "code",
   "execution_count": 2,
   "metadata": {},
   "outputs": [],
   "source": [
    "from pyathena import connect\n",
    "import pandas as pd"
   ]
  },
  {
   "cell_type": "markdown",
   "metadata": {},
   "source": [
    "# Create Athena Table for Parquet Data"
   ]
  },
  {
   "cell_type": "markdown",
   "metadata": {},
   "source": [
    "#### Dataset columns\n",
    "\n",
    "- `marketplace`: 2-letter country code (in this case all \"US\").\n",
    "- `customer_id`: Random identifier that can be used to aggregate reviews written by a single author.\n",
    "- `review_id`: A unique ID for the review.\n",
    "- `product_id`: The Amazon Standard Identification Number (ASIN).  `http://www.amazon.com/dp/<ASIN>` links to the product's detail page.\n",
    "- `product_parent`: The parent of that ASIN.  Multiple ASINs (color or format variations of the same product) can roll up into a single parent.\n",
    "- `product_title`: Title description of the product.\n",
    "- `product_category`: Broad product category that can be used to group reviews (in this case digital videos).\n",
    "- `star_rating`: The review's rating (1 to 5 stars).\n",
    "- `helpful_votes`: Number of helpful votes for the review.\n",
    "- `total_votes`: Number of total votes the review received.\n",
    "- `vine`: Was the review written as part of the [Vine](https://www.amazon.com/gp/vine/help) program?\n",
    "- `verified_purchase`: Was the review from a verified purchase?\n",
    "- `review_headline`: The title of the review itself.\n",
    "- `review_body`: The text of the review.\n",
    "- `review_date`: The date the review was written.\n",
    "\n"
   ]
  },
  {
   "cell_type": "code",
   "execution_count": 3,
   "metadata": {},
   "outputs": [],
   "source": [
    "s3_staging_dir = \"s3://{}/athena/query-cache\".format(bucket)"
   ]
  },
  {
   "cell_type": "code",
   "execution_count": 4,
   "metadata": {},
   "outputs": [],
   "source": [
    "database_name = \"default\"\n",
    "table_name = \"amazon_reviews_parquet\""
   ]
  },
  {
   "cell_type": "code",
   "execution_count": 5,
   "metadata": {},
   "outputs": [],
   "source": [
    "conn = connect(region_name=region, s3_staging_dir=s3_staging_dir)"
   ]
  },
  {
   "cell_type": "code",
   "execution_count": 6,
   "metadata": {},
   "outputs": [
    {
     "name": "stdout",
     "output_type": "stream",
     "text": [
      "\n",
      "    CREATE EXTERNAL TABLE default.amazon_reviews_parquet(\n",
      "      marketplace string, \n",
      "      customer_id string, \n",
      "      review_id string, \n",
      "      product_id string, \n",
      "      product_parent string, \n",
      "      product_title string, \n",
      "      star_rating int, \n",
      "      helpful_votes int, \n",
      "      total_votes int, \n",
      "      vine string, \n",
      "      verified_purchase string, \n",
      "      review_headline string, \n",
      "      review_body string, \n",
      "      review_date bigint, \n",
      "      year int)\n",
      "    PARTITIONED BY (product_category string)\n",
      "    ROW FORMAT SERDE \n",
      "      'org.apache.hadoop.hive.ql.io.parquet.serde.ParquetHiveSerDe' \n",
      "    STORED AS INPUTFORMAT \n",
      "      'org.apache.hadoop.hive.ql.io.parquet.MapredParquetInputFormat' \n",
      "    OUTPUTFORMAT \n",
      "      'org.apache.hadoop.hive.ql.io.parquet.MapredParquetOutputFormat'\n",
      "    LOCATION\n",
      "      's3://amazon-reviews-pds/parquet/'\n",
      "\n"
     ]
    },
    {
     "data": {
      "text/html": [
       "<div>\n",
       "<style scoped>\n",
       "    .dataframe tbody tr th:only-of-type {\n",
       "        vertical-align: middle;\n",
       "    }\n",
       "\n",
       "    .dataframe tbody tr th {\n",
       "        vertical-align: top;\n",
       "    }\n",
       "\n",
       "    .dataframe thead th {\n",
       "        text-align: right;\n",
       "    }\n",
       "</style>\n",
       "<table border=\"1\" class=\"dataframe\">\n",
       "  <thead>\n",
       "    <tr style=\"text-align: right;\">\n",
       "      <th></th>\n",
       "    </tr>\n",
       "  </thead>\n",
       "  <tbody>\n",
       "  </tbody>\n",
       "</table>\n",
       "</div>"
      ],
      "text/plain": [
       "Empty DataFrame\n",
       "Columns: []\n",
       "Index: []"
      ]
     },
     "execution_count": 6,
     "metadata": {},
     "output_type": "execute_result"
    }
   ],
   "source": [
    "# SQL statement to execute\n",
    "statement = \"\"\"\n",
    "    CREATE EXTERNAL TABLE {}.{}(\n",
    "      marketplace string, \n",
    "      customer_id string, \n",
    "      review_id string, \n",
    "      product_id string, \n",
    "      product_parent string, \n",
    "      product_title string, \n",
    "      star_rating int, \n",
    "      helpful_votes int, \n",
    "      total_votes int, \n",
    "      vine string, \n",
    "      verified_purchase string, \n",
    "      review_headline string, \n",
    "      review_body string, \n",
    "      review_date bigint, \n",
    "      year int)\n",
    "    PARTITIONED BY (product_category string)\n",
    "    ROW FORMAT SERDE \n",
    "      'org.apache.hadoop.hive.ql.io.parquet.serde.ParquetHiveSerDe' \n",
    "    STORED AS INPUTFORMAT \n",
    "      'org.apache.hadoop.hive.ql.io.parquet.MapredParquetInputFormat' \n",
    "    OUTPUTFORMAT \n",
    "      'org.apache.hadoop.hive.ql.io.parquet.MapredParquetOutputFormat'\n",
    "    LOCATION\n",
    "      's3://amazon-reviews-pds/parquet/'\n",
    "\"\"\".format(\n",
    "    database_name, table_name\n",
    ")\n",
    "\n",
    "print(statement)\n",
    "\n",
    "pd.read_sql(statement, conn)"
   ]
  },
  {
   "cell_type": "markdown",
   "metadata": {},
   "source": [
    "# Analyze and Build the Partitions"
   ]
  },
  {
   "cell_type": "code",
   "execution_count": 7,
   "metadata": {},
   "outputs": [
    {
     "name": "stdout",
     "output_type": "stream",
     "text": [
      "\n",
      "    MSCK REPAIR TABLE default.amazon_reviews_parquet\n",
      "\n"
     ]
    },
    {
     "data": {
      "text/html": [
       "<div>\n",
       "<style scoped>\n",
       "    .dataframe tbody tr th:only-of-type {\n",
       "        vertical-align: middle;\n",
       "    }\n",
       "\n",
       "    .dataframe tbody tr th {\n",
       "        vertical-align: top;\n",
       "    }\n",
       "\n",
       "    .dataframe thead th {\n",
       "        text-align: right;\n",
       "    }\n",
       "</style>\n",
       "<table border=\"1\" class=\"dataframe\">\n",
       "  <thead>\n",
       "    <tr style=\"text-align: right;\">\n",
       "      <th></th>\n",
       "    </tr>\n",
       "  </thead>\n",
       "  <tbody>\n",
       "  </tbody>\n",
       "</table>\n",
       "</div>"
      ],
      "text/plain": [
       "Empty DataFrame\n",
       "Columns: []\n",
       "Index: []"
      ]
     },
     "execution_count": 7,
     "metadata": {},
     "output_type": "execute_result"
    }
   ],
   "source": [
    "statement = \"\"\"\n",
    "    MSCK REPAIR TABLE {}.{}\n",
    "\"\"\".format(\n",
    "    database_name, table_name\n",
    ")\n",
    "\n",
    "print(statement)\n",
    "\n",
    "pd.read_sql(statement, conn)"
   ]
  },
  {
   "cell_type": "markdown",
   "metadata": {},
   "source": [
    "# Verify The Table Has Been Created Succesfully"
   ]
  },
  {
   "cell_type": "code",
   "execution_count": 8,
   "metadata": {},
   "outputs": [
    {
     "data": {
      "text/html": [
       "<div>\n",
       "<style scoped>\n",
       "    .dataframe tbody tr th:only-of-type {\n",
       "        vertical-align: middle;\n",
       "    }\n",
       "\n",
       "    .dataframe tbody tr th {\n",
       "        vertical-align: top;\n",
       "    }\n",
       "\n",
       "    .dataframe thead th {\n",
       "        text-align: right;\n",
       "    }\n",
       "</style>\n",
       "<table border=\"1\" class=\"dataframe\">\n",
       "  <thead>\n",
       "    <tr style=\"text-align: right;\">\n",
       "      <th></th>\n",
       "      <th>tab_name</th>\n",
       "    </tr>\n",
       "  </thead>\n",
       "  <tbody>\n",
       "    <tr>\n",
       "      <th>0</th>\n",
       "      <td>amazon_reviews_parquet</td>\n",
       "    </tr>\n",
       "  </tbody>\n",
       "</table>\n",
       "</div>"
      ],
      "text/plain": [
       "                 tab_name\n",
       "0  amazon_reviews_parquet"
      ]
     },
     "execution_count": 8,
     "metadata": {},
     "output_type": "execute_result"
    }
   ],
   "source": [
    "statement = \"SHOW TABLES in {}\".format(database_name)\n",
    "\n",
    "df_tables = pd.read_sql(statement, conn)\n",
    "df_tables"
   ]
  },
  {
   "cell_type": "markdown",
   "metadata": {},
   "source": [
    "# Run A Sample Query"
   ]
  },
  {
   "cell_type": "code",
   "execution_count": 9,
   "metadata": {},
   "outputs": [
    {
     "name": "stdout",
     "output_type": "stream",
     "text": [
      "\n",
      "    SELECT * FROM default.amazon_reviews_parquet\n",
      "    WHERE product_category = 'Digital_Software' LIMIT 100\n",
      "\n"
     ]
    }
   ],
   "source": [
    "product_category = \"Digital_Software\"\n",
    "\n",
    "statement = \"\"\"\n",
    "    SELECT * FROM {}.{}\n",
    "    WHERE product_category = '{}' LIMIT 100\n",
    "\"\"\".format(\n",
    "    database_name, table_name, product_category\n",
    ")\n",
    "\n",
    "print(statement)"
   ]
  },
  {
   "cell_type": "code",
   "execution_count": 10,
   "metadata": {},
   "outputs": [
    {
     "data": {
      "text/html": [
       "<div>\n",
       "<style scoped>\n",
       "    .dataframe tbody tr th:only-of-type {\n",
       "        vertical-align: middle;\n",
       "    }\n",
       "\n",
       "    .dataframe tbody tr th {\n",
       "        vertical-align: top;\n",
       "    }\n",
       "\n",
       "    .dataframe thead th {\n",
       "        text-align: right;\n",
       "    }\n",
       "</style>\n",
       "<table border=\"1\" class=\"dataframe\">\n",
       "  <thead>\n",
       "    <tr style=\"text-align: right;\">\n",
       "      <th></th>\n",
       "      <th>marketplace</th>\n",
       "      <th>customer_id</th>\n",
       "      <th>review_id</th>\n",
       "      <th>product_id</th>\n",
       "      <th>product_parent</th>\n",
       "      <th>product_title</th>\n",
       "      <th>star_rating</th>\n",
       "      <th>helpful_votes</th>\n",
       "      <th>total_votes</th>\n",
       "      <th>vine</th>\n",
       "      <th>verified_purchase</th>\n",
       "      <th>review_headline</th>\n",
       "      <th>review_body</th>\n",
       "      <th>review_date</th>\n",
       "      <th>year</th>\n",
       "      <th>product_category</th>\n",
       "    </tr>\n",
       "  </thead>\n",
       "  <tbody>\n",
       "    <tr>\n",
       "      <th>0</th>\n",
       "      <td>US</td>\n",
       "      <td>16439457</td>\n",
       "      <td>RTP8B70WFVEAB</td>\n",
       "      <td>B00FFINFM2</td>\n",
       "      <td>218020461</td>\n",
       "      <td>TurboTax Business Fed and Efile 2013</td>\n",
       "      <td>2</td>\n",
       "      <td>0</td>\n",
       "      <td>0</td>\n",
       "      <td>N</td>\n",
       "      <td>Y</td>\n",
       "      <td>Worse than their products for Individuals</td>\n",
       "      <td>Maybe I just had too many expectations.&lt;br /&gt;I...</td>\n",
       "      <td>16170</td>\n",
       "      <td>2014</td>\n",
       "      <td>Digital_Software</td>\n",
       "    </tr>\n",
       "    <tr>\n",
       "      <th>1</th>\n",
       "      <td>US</td>\n",
       "      <td>18171562</td>\n",
       "      <td>R1XEO4NYQ0RD4Y</td>\n",
       "      <td>B009G6SEKM</td>\n",
       "      <td>440579914</td>\n",
       "      <td>Adobe Photoshop Elements 11</td>\n",
       "      <td>5</td>\n",
       "      <td>1</td>\n",
       "      <td>1</td>\n",
       "      <td>N</td>\n",
       "      <td>Y</td>\n",
       "      <td>Very good software</td>\n",
       "      <td>Both programs perform excellently and APE11 se...</td>\n",
       "      <td>15898</td>\n",
       "      <td>2013</td>\n",
       "      <td>Digital_Software</td>\n",
       "    </tr>\n",
       "    <tr>\n",
       "      <th>2</th>\n",
       "      <td>US</td>\n",
       "      <td>10787611</td>\n",
       "      <td>R1X65MS9H1YXZY</td>\n",
       "      <td>B00H9A60O4</td>\n",
       "      <td>608720080</td>\n",
       "      <td>Avast Free Antivirus 2015 [Download]</td>\n",
       "      <td>1</td>\n",
       "      <td>0</td>\n",
       "      <td>0</td>\n",
       "      <td>N</td>\n",
       "      <td>Y</td>\n",
       "      <td>Didn't catch any viruses or malware</td>\n",
       "      <td>After downloading it on my son's computer it d...</td>\n",
       "      <td>16170</td>\n",
       "      <td>2014</td>\n",
       "      <td>Digital_Software</td>\n",
       "    </tr>\n",
       "    <tr>\n",
       "      <th>3</th>\n",
       "      <td>US</td>\n",
       "      <td>6676531</td>\n",
       "      <td>R18LC1I0XMW6HA</td>\n",
       "      <td>B008SCNLEY</td>\n",
       "      <td>643150354</td>\n",
       "      <td>Norton 360 2013 - 1 User / 3 PC</td>\n",
       "      <td>5</td>\n",
       "      <td>2</td>\n",
       "      <td>2</td>\n",
       "      <td>N</td>\n",
       "      <td>N</td>\n",
       "      <td>Renewing Norton 360</td>\n",
       "      <td>I had problems trying to download and install ...</td>\n",
       "      <td>15898</td>\n",
       "      <td>2013</td>\n",
       "      <td>Digital_Software</td>\n",
       "    </tr>\n",
       "    <tr>\n",
       "      <th>4</th>\n",
       "      <td>US</td>\n",
       "      <td>29435045</td>\n",
       "      <td>R2JF1T6Z3R91ZV</td>\n",
       "      <td>B00G0DXA9Y</td>\n",
       "      <td>595906078</td>\n",
       "      <td>H&amp;R Block At Home 2013 Deluxe + State</td>\n",
       "      <td>4</td>\n",
       "      <td>0</td>\n",
       "      <td>0</td>\n",
       "      <td>N</td>\n",
       "      <td>Y</td>\n",
       "      <td>User Friendly, would recommend.</td>\n",
       "      <td>Find this software is very user friendly.  One...</td>\n",
       "      <td>16170</td>\n",
       "      <td>2014</td>\n",
       "      <td>Digital_Software</td>\n",
       "    </tr>\n",
       "  </tbody>\n",
       "</table>\n",
       "</div>"
      ],
      "text/plain": [
       "  marketplace customer_id       review_id  product_id product_parent  \\\n",
       "0          US    16439457   RTP8B70WFVEAB  B00FFINFM2      218020461   \n",
       "1          US    18171562  R1XEO4NYQ0RD4Y  B009G6SEKM      440579914   \n",
       "2          US    10787611  R1X65MS9H1YXZY  B00H9A60O4      608720080   \n",
       "3          US     6676531  R18LC1I0XMW6HA  B008SCNLEY      643150354   \n",
       "4          US    29435045  R2JF1T6Z3R91ZV  B00G0DXA9Y      595906078   \n",
       "\n",
       "                           product_title  star_rating  helpful_votes  \\\n",
       "0   TurboTax Business Fed and Efile 2013            2              0   \n",
       "1            Adobe Photoshop Elements 11            5              1   \n",
       "2   Avast Free Antivirus 2015 [Download]            1              0   \n",
       "3        Norton 360 2013 - 1 User / 3 PC            5              2   \n",
       "4  H&R Block At Home 2013 Deluxe + State            4              0   \n",
       "\n",
       "   total_votes vine verified_purchase  \\\n",
       "0            0    N                 Y   \n",
       "1            1    N                 Y   \n",
       "2            0    N                 Y   \n",
       "3            2    N                 N   \n",
       "4            0    N                 Y   \n",
       "\n",
       "                             review_headline  \\\n",
       "0  Worse than their products for Individuals   \n",
       "1                         Very good software   \n",
       "2        Didn't catch any viruses or malware   \n",
       "3                        Renewing Norton 360   \n",
       "4            User Friendly, would recommend.   \n",
       "\n",
       "                                         review_body  review_date  year  \\\n",
       "0  Maybe I just had too many expectations.<br />I...        16170  2014   \n",
       "1  Both programs perform excellently and APE11 se...        15898  2013   \n",
       "2  After downloading it on my son's computer it d...        16170  2014   \n",
       "3  I had problems trying to download and install ...        15898  2013   \n",
       "4  Find this software is very user friendly.  One...        16170  2014   \n",
       "\n",
       "   product_category  \n",
       "0  Digital_Software  \n",
       "1  Digital_Software  \n",
       "2  Digital_Software  \n",
       "3  Digital_Software  \n",
       "4  Digital_Software  "
      ]
     },
     "execution_count": 10,
     "metadata": {},
     "output_type": "execute_result"
    }
   ],
   "source": [
    "df = pd.read_sql(statement, conn)\n",
    "df.head(5)"
   ]
  },
  {
   "cell_type": "code",
   "execution_count": 11,
   "metadata": {},
   "outputs": [
    {
     "name": "stdout",
     "output_type": "stream",
     "text": [
      "[OK]\n"
     ]
    }
   ],
   "source": [
    "if df.empty:\n",
    "    print(\"++++++++++++++++++++++++++++++++++++++++++++++++++++++\")\n",
    "    print(\"[ERROR] YOUR DATA HAS NOT BEEN REGISTERED WITH ATHENA.\")\n",
    "    print(\"LOOK IN PREVIOUS CELLS TO FIND THE ISSUE.             \")\n",
    "    print(\"++++++++++++++++++++++++++++++++++++++++++++++++++++++\")\n",
    "else:\n",
    "    print(\"[OK]\")"
   ]
  },
  {
   "cell_type": "code",
   "execution_count": 12,
   "metadata": {},
   "outputs": [],
   "source": [
    "if \"amazon_reviews_parquet\" in df_tables.values and not df.empty:\n",
    "    ingest_create_athena_table_parquet_passed = True"
   ]
  },
  {
   "cell_type": "code",
   "execution_count": 13,
   "metadata": {},
   "outputs": [
    {
     "name": "stdout",
     "output_type": "stream",
     "text": [
      "Stored 'ingest_create_athena_table_parquet_passed' (bool)\n"
     ]
    }
   ],
   "source": [
    "%store ingest_create_athena_table_parquet_passed"
   ]
  },
  {
   "cell_type": "markdown",
   "metadata": {},
   "source": [
    "# Review the New Athena Table in the Glue Catalog"
   ]
  },
  {
   "cell_type": "code",
   "execution_count": 14,
   "metadata": {},
   "outputs": [
    {
     "data": {
      "text/html": [
       "<b>Review <a target=\"top\" href=\"https://console.aws.amazon.com/glue/home?region=us-east-1#table:catalog=298039562326;name=amazon_reviews_parquet;namespace=default\">AWS Glue Catalog</a></b>"
      ],
      "text/plain": [
       "<IPython.core.display.HTML object>"
      ]
     },
     "metadata": {},
     "output_type": "display_data"
    }
   ],
   "source": [
    "from IPython.core.display import display, HTML\n",
    "\n",
    "display(\n",
    "    HTML(\n",
    "        '<b>Review <a target=\"top\" href=\"https://console.aws.amazon.com/glue/home?region={}#table:catalog={};name=amazon_reviews_parquet;namespace=default\">AWS Glue Catalog</a></b>'.format(\n",
    "            region, account_id\n",
    "        )\n",
    "    )\n",
    ")"
   ]
  },
  {
   "cell_type": "markdown",
   "metadata": {},
   "source": [
    "# Store Variables for the Next Notebooks"
   ]
  },
  {
   "cell_type": "code",
   "execution_count": 15,
   "metadata": {},
   "outputs": [
    {
     "name": "stdout",
     "output_type": "stream",
     "text": [
      "Stored variables and their in-db values:\n",
      "ingest_create_athena_table_parquet_passed             -> True\n",
      "setup_dependencies_passed                             -> True\n"
     ]
    }
   ],
   "source": [
    "%store"
   ]
  },
  {
   "cell_type": "markdown",
   "metadata": {},
   "source": [
    "# Release Resources"
   ]
  },
  {
   "cell_type": "code",
   "execution_count": 16,
   "metadata": {},
   "outputs": [
    {
     "data": {
      "text/html": [
       "\n",
       "<p><b>Shutting down your kernel for this notebook to release resources.</b></p>\n",
       "<button class=\"sm-command-button\" data-commandlinker-command=\"kernelmenu:shutdown\" style=\"display:none;\">Shutdown Kernel</button>\n",
       "        \n",
       "<script>\n",
       "try {\n",
       "    els = document.getElementsByClassName(\"sm-command-button\");\n",
       "    els[0].click();\n",
       "}\n",
       "catch(err) {\n",
       "    // NoOp\n",
       "}    \n",
       "</script>\n"
      ],
      "text/plain": [
       "<IPython.core.display.HTML object>"
      ]
     },
     "metadata": {},
     "output_type": "display_data"
    }
   ],
   "source": [
    "%%html\n",
    "\n",
    "<p><b>Shutting down your kernel for this notebook to release resources.</b></p>\n",
    "<button class=\"sm-command-button\" data-commandlinker-command=\"kernelmenu:shutdown\" style=\"display:none;\">Shutdown Kernel</button>\n",
    "        \n",
    "<script>\n",
    "try {\n",
    "    els = document.getElementsByClassName(\"sm-command-button\");\n",
    "    els[0].click();\n",
    "}\n",
    "catch(err) {\n",
    "    // NoOp\n",
    "}    \n",
    "</script>"
   ]
  }
 ],
 "metadata": {
  "kernelspec": {
   "display_name": "Python 3 (Data Science)",
   "language": "python",
   "name": "python3__SAGEMAKER_INTERNAL__arn:aws:sagemaker:us-east-1:081325390199:image/datascience-1.0"
  },
  "language_info": {
   "codemirror_mode": {
    "name": "ipython",
    "version": 3
   },
   "file_extension": ".py",
   "mimetype": "text/x-python",
   "name": "python",
   "nbconvert_exporter": "python",
   "pygments_lexer": "ipython3",
   "version": "3.7.10"
  }
 },
 "nbformat": 4,
 "nbformat_minor": 4
}
